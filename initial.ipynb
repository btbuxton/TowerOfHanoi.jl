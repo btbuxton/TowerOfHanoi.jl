{
 "cells": [
  {
   "cell_type": "code",
   "execution_count": 1,
   "id": "0c374a8e-ac5c-4b54-a3b3-eacaaad2e9af",
   "metadata": {},
   "outputs": [],
   "source": [
    "using Revise"
   ]
  },
  {
   "cell_type": "code",
   "execution_count": 2,
   "id": "c0eea65c-e17a-46d7-8439-74849526e795",
   "metadata": {},
   "outputs": [],
   "source": [
    "using Pkg"
   ]
  },
  {
   "cell_type": "code",
   "execution_count": 3,
   "id": "5fb83e02-4813-46ce-b70f-f4509b9bc90f",
   "metadata": {},
   "outputs": [
    {
     "name": "stderr",
     "output_type": "stream",
     "text": [
      "\u001b[32m\u001b[1m  Activating\u001b[22m\u001b[39m environment at `~/Documents/julia/TowerOfHanoi/Project.toml`\n"
     ]
    }
   ],
   "source": [
    "Pkg.activate(\".\")"
   ]
  },
  {
   "cell_type": "code",
   "execution_count": 4,
   "id": "34d455c6-4060-42b5-9c96-ff7fbd938af3",
   "metadata": {},
   "outputs": [
    {
     "data": {
      "text/plain": [
       "Pkg.Types.ProjectInfo(\"TowerOfHanoi\", UUID(\"6a97d50a-75bd-41c1-a5a5-4807027c1e39\"), v\"0.1.0\", true, Dict{String, Base.UUID}(), \"/home/btbuxton/Documents/julia/TowerOfHanoi/Project.toml\")"
      ]
     },
     "execution_count": 4,
     "metadata": {},
     "output_type": "execute_result"
    }
   ],
   "source": [
    "Pkg.project()"
   ]
  },
  {
   "cell_type": "code",
   "execution_count": 18,
   "id": "25a630ac-96a2-4044-821c-c0a59b801186",
   "metadata": {},
   "outputs": [
    {
     "name": "stderr",
     "output_type": "stream",
     "text": [
      "\u001b[32m\u001b[1m     Testing\u001b[22m\u001b[39m TowerOfHanoi\n",
      "\u001b[32m\u001b[1m      Status\u001b[22m\u001b[39m `/tmp/jl_QE198A/Project.toml`\n",
      " \u001b[90m [6a97d50a] \u001b[39mTowerOfHanoi v0.1.0 `~/Documents/julia/TowerOfHanoi`\n",
      " \u001b[90m [8dfed614] \u001b[39mTest `@stdlib/Test`\n",
      "\u001b[32m\u001b[1m      Status\u001b[22m\u001b[39m `/tmp/jl_QE198A/Manifest.toml`\n",
      " \u001b[90m [6a97d50a] \u001b[39mTowerOfHanoi v0.1.0 `~/Documents/julia/TowerOfHanoi`\n",
      " \u001b[90m [2a0f44e3] \u001b[39mBase64 `@stdlib/Base64`\n",
      " \u001b[90m [b77e0a4c] \u001b[39mInteractiveUtils `@stdlib/InteractiveUtils`\n",
      " \u001b[90m [56ddb016] \u001b[39mLogging `@stdlib/Logging`\n",
      " \u001b[90m [d6f4376e] \u001b[39mMarkdown `@stdlib/Markdown`\n",
      " \u001b[90m [9a3f8284] \u001b[39mRandom `@stdlib/Random`\n",
      " \u001b[90m [9e88b42a] \u001b[39mSerialization `@stdlib/Serialization`\n",
      " \u001b[90m [8dfed614] \u001b[39mTest `@stdlib/Test`\n",
      "\u001b[32m\u001b[1m     Testing\u001b[22m\u001b[39m Running tests...\n"
     ]
    },
    {
     "name": "stdout",
     "output_type": "stream",
     "text": [
      "\u001b[37m\u001b[1mTest Summary: | \u001b[22m\u001b[39m\u001b[32m\u001b[1mPass  \u001b[22m\u001b[39m\u001b[36m\u001b[1mTotal\u001b[22m\u001b[39m\n",
      "Domain        | \u001b[32m  14  \u001b[39m\u001b[36m   14\u001b[39m\n"
     ]
    },
    {
     "name": "stderr",
     "output_type": "stream",
     "text": [
      "\u001b[32m\u001b[1m     Testing\u001b[22m\u001b[39m TowerOfHanoi tests passed \n"
     ]
    }
   ],
   "source": [
    "Pkg.test()"
   ]
  },
  {
   "cell_type": "code",
   "execution_count": 83,
   "id": "ae9aee16-1d86-428f-960b-8caad83d9623",
   "metadata": {},
   "outputs": [],
   "source": [
    "using TowerOfHanoi"
   ]
  },
  {
   "cell_type": "code",
   "execution_count": 6,
   "id": "839b47b6-fbd0-4e6f-a949-10ce38e76daa",
   "metadata": {},
   "outputs": [
    {
     "data": {
      "text/plain": [
       "   ***                     \n",
       "  *****                    \n",
       " *******                   \n"
      ]
     },
     "execution_count": 6,
     "metadata": {},
     "output_type": "execute_result"
    }
   ],
   "source": [
    "Tower(3)"
   ]
  },
  {
   "cell_type": "code",
   "execution_count": 544,
   "id": "5e7c6cc9-bb97-49c1-9d83-008961692e54",
   "metadata": {},
   "outputs": [
    {
     "name": "stderr",
     "output_type": "stream",
     "text": [
      "WARNING: replacing module Data.\n"
     ]
    },
    {
     "data": {
      "text/plain": [
       "Main.Data"
      ]
     },
     "execution_count": 544,
     "metadata": {},
     "output_type": "execute_result"
    }
   ],
   "source": [
    "module Data\n",
    "\n",
    "struct Disc\n",
    "    value::Integer\n",
    "end\n",
    "\n",
    "Base.show(io::IO, disc::Disc) = print(io, repeat(\"*\", disc.value))\n",
    "\n",
    "Base.:(<)(a::Disc, b::Disc) = a.value < b.value\n",
    "Base.:(==)(a::Disc, b::Disc) = a.value == b.value\n",
    "Base.hash(a::Disc,h::UInt) = hash(a.value,h)\n",
    "\n",
    "function show_line(disc::Disc, max::Integer, depth::Integer)\n",
    "    rpad(lpad(repeat(\"*\", disc.value), Integer((max - disc.value) / 2 + disc.value)), max)\n",
    "end\n",
    "\n",
    "struct Rod\n",
    "    discs::AbstractVector{Disc}\n",
    "end\n",
    "\n",
    "Rod() = Rod([])\n",
    "Base.:(==)(a::Rod,b::Rod) = a.discs == b.discs\n",
    "Base.hash(a::Rod,h::UInt) = hash(a.discs,h)\n",
    "\n",
    "function show_line(rod::Rod, max::Integer, depth::Integer)\n",
    "    disc = get(rod.discs, depth, nothing)\n",
    "    if disc == nothing\n",
    "        repeat(\" \", max)\n",
    "    else    \n",
    "        show_line(disc, max, depth)\n",
    "    end\n",
    "end\n",
    "\n",
    "top_disc(rod::Rod) = last(rod.discs)\n",
    "has_discs(rod::Rod) = !isempty(rod.discs)\n",
    "\n",
    "function can_accept(rod::Rod, disc::Disc)\n",
    "    if !has_discs(rod)\n",
    "        return true\n",
    "    end\n",
    "    top_disc(rod) > disc\n",
    "end\n",
    "\n",
    "struct Tower\n",
    "    size::Integer\n",
    "    rods::AbstractVector{Rod}\n",
    "end\n",
    "\n",
    "function Tower(size::Integer)\n",
    "    stack = reverse([Disc(each) for each in range(3, step=2,length=size)])\n",
    "    Tower(size, [Rod(stack), Rod(), Rod()])\n",
    "end\n",
    "\n",
    "Base.:(==)(a::Tower,b::Tower) = a.size == b.size && a.rods == b.rods\n",
    "Base.hash(a::Tower,h::UInt) = hash(a.rods,h)\n",
    "\n",
    "function can_make_move(tower::Tower, from::Integer, to::Integer)\n",
    "    if from == to\n",
    "        return false, \"Can not be same rod[$from]\"\n",
    "    end\n",
    "    \n",
    "    from_rod = tower.rods[from]\n",
    "    if !has_discs(from_rod)\n",
    "        return false, \"No discs to move from rod[$from]\"\n",
    "    end\n",
    "    \n",
    "    if !can_accept(tower.rods[to], top_disc(from_rod))\n",
    "        return false, \"Disc at top of rod[$from] is greater than top of rod[$to]\"\n",
    "    end\n",
    "    true, nothing\n",
    "end\n",
    "\n",
    "function Base.show(io::IO, tower::Tower)\n",
    "    max = tower.size * 2 + 3\n",
    "    for y in range(tower.size, length=tower.size, step=-1)\n",
    "        for each_rod in tower.rods\n",
    "            print(io, show_line(each_rod, max, y))\n",
    "        end\n",
    "        println(io)\n",
    "    end\n",
    "end\n",
    "\n",
    "struct InvalidMoveException <: Exception\n",
    "    value::String\n",
    "end\n",
    "\n",
    "abstract type MoveState end\n",
    "struct Valid <: MoveState end\n",
    "struct Invalid <: MoveState end\n",
    "struct Possible <: MoveState end\n",
    "\n",
    "struct Move{T}\n",
    "    tower::Tower\n",
    "    from::Integer\n",
    "    to::Integer\n",
    "    msg::String # less than ideal - only for invalid\n",
    "    \n",
    "    Move{Valid}(move::Move{Possible}) = new{Valid}(move.tower, move.from, move.to, \"\") # yuck\n",
    "    Move{Invalid}(move::Move{Possible}, msg::String) = new{Invalid}(move.tower,move.from,move.to,msg)\n",
    "    Move{Possible}(tower::Tower, from::Integer, to::Integer) = new{Possible}(tower,from,to,\"\")\n",
    "    Move(tower::Tower, from::Integer, to::Integer) = Move{Possible}(tower,from,to)\n",
    "end\n",
    "\n",
    "function (move::Move{Possible})() \n",
    "    check(move)()\n",
    "end\n",
    "\n",
    "function (move::Move{Invalid})()\n",
    "    throw(InvalidMoveException(move.msg))\n",
    "end\n",
    "\n",
    "function (move::Move{Valid})()\n",
    "    rods = deepcopy(move.tower.rods)\n",
    "    from_rod = rods[move.from]\n",
    "    to_rod = rods[move.to]\n",
    "    \n",
    "    disc = pop!(from_rod.discs)\n",
    "    push!(to_rod.discs, disc)\n",
    "    Tower(move.tower.size, rods)\n",
    "end\n",
    "\n",
    "function check(move::Move{Possible})\n",
    "    is_valid, msg = can_make_move(move.tower,move.from,move.to)\n",
    "    if is_valid\n",
    "        Move{Valid}(move)\n",
    "    else\n",
    "        Move{Invalid}(move, msg)\n",
    "    end\n",
    "end\n",
    "\n",
    "function add_if_valid(move::Move{Possible}, all::AbstractVector{Any})\n",
    "    add_if_valid(check(move), all)\n",
    "end\n",
    "\n",
    "add_if_valid(move::Move{Valid}, all::AbstractVector{Any}) = push!(all, move)\n",
    "add_if_valid(move::Move{Invalid}, ::AbstractVector{Any}) = nothing\n",
    "\n",
    "function valid_moves(tower::Tower)\n",
    "    result = []\n",
    "    for from_index in range(1, length=3)\n",
    "        for to_index in range(1, length=3)\n",
    "            if from_index === to_index\n",
    "                continue\n",
    "            end\n",
    "            move = Move(tower, from_index, to_index)\n",
    "            add_if_valid(move, result)\n",
    "        end\n",
    "    end\n",
    "    return result\n",
    "end\n",
    "\n",
    "\n",
    "end\n",
    "\n",
    "#TODO Move is wasteful - an experiment - better, but still has issues\n",
    "#TODO save this and start below\n",
    "#TODO tests"
   ]
  },
  {
   "cell_type": "code",
   "execution_count": 545,
   "id": "2f1b8a42-ed08-45d8-b351-d037af43b612",
   "metadata": {},
   "outputs": [],
   "source": [
    "#Tower() = Tower([Rod(), Rod(), Rod()])"
   ]
  },
  {
   "cell_type": "code",
   "execution_count": 546,
   "id": "f09b5c4d-9ba4-4fc6-bf2a-c4edf9c8c309",
   "metadata": {},
   "outputs": [
    {
     "data": {
      "text/plain": [
       "    ***                          \n",
       "   *****                         \n",
       "  *******                        \n",
       " *********                       \n"
      ]
     },
     "execution_count": 546,
     "metadata": {},
     "output_type": "execute_result"
    }
   ],
   "source": [
    "t = Data.Tower(4)"
   ]
  },
  {
   "cell_type": "code",
   "execution_count": 547,
   "id": "57ccc29b-fa7e-4b2e-81ee-55da34c23bfe",
   "metadata": {},
   "outputs": [
    {
     "data": {
      "text/plain": [
       "2-element Vector{Any}:\n",
       " Main.Data.Move{Main.Data.Valid}(    ***                          \n",
       "   *****                         \n",
       "  *******                        \n",
       " *********                       \n",
       ", 1, 2, \"\")\n",
       " Main.Data.Move{Main.Data.Valid}(    ***                          \n",
       "   *****                         \n",
       "  *******                        \n",
       " *********                       \n",
       ", 1, 3, \"\")"
      ]
     },
     "execution_count": 547,
     "metadata": {},
     "output_type": "execute_result"
    }
   ],
   "source": [
    "Data.valid_moves(t)"
   ]
  },
  {
   "cell_type": "code",
   "execution_count": 548,
   "id": "3e9daa63-b2fc-4e3d-87fc-d03193fc2ed8",
   "metadata": {},
   "outputs": [
    {
     "data": {
      "text/plain": [
       "2-element Vector{UInt64}:\n",
       " 0x55346322cc8ee4fb\n",
       " 0xdf079c7d5e3049c9"
      ]
     },
     "execution_count": 548,
     "metadata": {},
     "output_type": "execute_result"
    }
   ],
   "source": [
    "[hash(each) for each in Data.valid_moves(t)]"
   ]
  },
  {
   "cell_type": "code",
   "execution_count": 534,
   "id": "c8ec8634-5520-46c0-a674-8d8d6ca1ab4e",
   "metadata": {},
   "outputs": [
    {
     "data": {
      "text/plain": [
       "false"
      ]
     },
     "execution_count": 534,
     "metadata": {},
     "output_type": "execute_result"
    }
   ],
   "source": [
    "Data.can_accept(t.rods[1], Data.Disc(7))"
   ]
  },
  {
   "cell_type": "code",
   "execution_count": 535,
   "id": "d67aed2f-a9c8-4061-b80a-7ae3a843ca92",
   "metadata": {},
   "outputs": [
    {
     "data": {
      "text/plain": [
       "                                 \n",
       "   *****                         \n",
       "  *******                        \n",
       " *********     ***               \n"
      ]
     },
     "execution_count": 535,
     "metadata": {},
     "output_type": "execute_result"
    }
   ],
   "source": [
    "Data.Move(t,1,2)()"
   ]
  },
  {
   "cell_type": "code",
   "execution_count": 536,
   "id": "63865190-cf41-4727-9cce-8bf558c09190",
   "metadata": {},
   "outputs": [
    {
     "ename": "LoadError",
     "evalue": "Main.Data.InvalidMoveException(\"No discs to move from rod[2]\")",
     "output_type": "error",
     "traceback": [
      "Main.Data.InvalidMoveException(\"No discs to move from rod[2]\")",
      "",
      "Stacktrace:",
      " [1] (::Main.Data.Move{Main.Data.Invalid})()",
      "   @ Main.Data ./In[530]:109",
      " [2] (::Main.Data.Move{Main.Data.Possible})()",
      "   @ Main.Data ./In[530]:105",
      " [3] top-level scope",
      "   @ In[536]:1",
      " [4] eval",
      "   @ ./boot.jl:360 [inlined]",
      " [5] include_string(mapexpr::typeof(REPL.softscope), mod::Module, code::String, filename::String)",
      "   @ Base ./loading.jl:1116"
     ]
    }
   ],
   "source": [
    "Data.Move(t,2,1)()"
   ]
  },
  {
   "cell_type": "code",
   "execution_count": 537,
   "id": "8c4e7ddb-9f24-4c5d-81e3-e37cba26014b",
   "metadata": {},
   "outputs": [
    {
     "data": {
      "text/plain": [
       "Main.Data.Move{Main.Data.Possible}(    ***                          \n",
       "   *****                         \n",
       "  *******                        \n",
       " *********                       \n",
       ", 1, 2, \"\")"
      ]
     },
     "execution_count": 537,
     "metadata": {},
     "output_type": "execute_result"
    }
   ],
   "source": [
    "Data.Move(t,1,2)"
   ]
  },
  {
   "cell_type": "code",
   "execution_count": 538,
   "id": "d358c811-4070-4338-8690-63251f2d148d",
   "metadata": {},
   "outputs": [
    {
     "data": {
      "text/plain": [
       "                                 \n",
       "                                 \n",
       "  *******                 ***    \n",
       " *********               *****   \n"
      ]
     },
     "execution_count": 538,
     "metadata": {},
     "output_type": "execute_result"
    }
   ],
   "source": [
    "r = Data.Move(t,1,2)()\n",
    "r = Data.Move(r,1,3)()\n",
    "r = Data.Move(r,2,3)()"
   ]
  },
  {
   "cell_type": "code",
   "execution_count": 539,
   "id": "1cdfc37e-5eff-4d6d-a31e-dbd4c8ac8e10",
   "metadata": {},
   "outputs": [
    {
     "data": {
      "text/plain": [
       "Main.Data.Move{Main.Data.Invalid}(                                 \n",
       "                                 \n",
       "  *******                 ***    \n",
       " *********               *****   \n",
       ", 1, 3, \"Disc at top of rod[1] is greater than top of rod[3]\")"
      ]
     },
     "execution_count": 539,
     "metadata": {},
     "output_type": "execute_result"
    }
   ],
   "source": [
    "m = Data.Move(r,1,3)\n",
    "Data.check(m)"
   ]
  },
  {
   "cell_type": "code",
   "execution_count": 540,
   "id": "0d400b73-67aa-40c4-a703-03c3add15dd8",
   "metadata": {},
   "outputs": [
    {
     "data": {
      "text/plain": [
       "false"
      ]
     },
     "execution_count": 540,
     "metadata": {},
     "output_type": "execute_result"
    }
   ],
   "source": [
    "Data.can_accept(r.rods[3], Data.top_disc(r.rods[1]))"
   ]
  },
  {
   "cell_type": "code",
   "execution_count": 541,
   "id": "deff9739-0a43-4153-bea6-bb35a1642c6a",
   "metadata": {},
   "outputs": [
    {
     "name": "stdout",
     "output_type": "stream",
     "text": [
      "3994254288365766802\n"
     ]
    },
    {
     "data": {
      "text/plain": [
       "    ***                          \n",
       "   *****                         \n",
       "  *******                        \n",
       " *********                       \n"
      ]
     },
     "execution_count": 541,
     "metadata": {},
     "output_type": "execute_result"
    }
   ],
   "source": [
    "println(hash(t))\n",
    "t"
   ]
  },
  {
   "cell_type": "code",
   "execution_count": 542,
   "id": "49fb8639-629c-4d5f-b697-06be6a3d714f",
   "metadata": {},
   "outputs": [
    {
     "data": {
      "text/plain": [
       "    ***                          \n",
       "   *****                         \n",
       "  *******                        \n",
       " *********                       \n"
      ]
     },
     "execution_count": 542,
     "metadata": {},
     "output_type": "execute_result"
    }
   ],
   "source": [
    "r = Data.Move(r,3,2)()\n",
    "r = Data.Move(r,3,1)()\n",
    "r = Data.Move(r,2,1)()"
   ]
  },
  {
   "cell_type": "code",
   "execution_count": 543,
   "id": "35305f36-5908-449f-8c19-bce545f4675e",
   "metadata": {},
   "outputs": [
    {
     "name": "stdout",
     "output_type": "stream",
     "text": [
      "3994254288365766802\n"
     ]
    },
    {
     "data": {
      "text/plain": [
       "    ***                          \n",
       "   *****                         \n",
       "  *******                        \n",
       " *********                       \n"
      ]
     },
     "execution_count": 543,
     "metadata": {},
     "output_type": "execute_result"
    }
   ],
   "source": [
    "println(hash(r))\n",
    "r"
   ]
  },
  {
   "cell_type": "code",
   "execution_count": 76,
   "id": "16339d3f-c476-476f-83ed-ce74e1d05ce7",
   "metadata": {},
   "outputs": [
    {
     "name": "stdout",
     "output_type": "stream",
     "text": [
      "*********\n",
      "*******\n"
     ]
    }
   ],
   "source": [
    "println(t.rods[1].discs[1])\n",
    "println(t.rods[1].discs[2])"
   ]
  },
  {
   "cell_type": "code",
   "execution_count": 82,
   "id": "2cadd70e-3477-49ae-bb32-cab4072fdcab",
   "metadata": {},
   "outputs": [
    {
     "data": {
      "text/plain": [
       "\"   *****   \""
      ]
     },
     "execution_count": 82,
     "metadata": {},
     "output_type": "execute_result"
    }
   ],
   "source": [
    "Data.display(t.rods[1], 11, 3)"
   ]
  },
  {
   "cell_type": "code",
   "execution_count": 80,
   "id": "42a60d51-c16b-4671-9f4a-2a3e5493ef75",
   "metadata": {},
   "outputs": [
    {
     "data": {
      "text/plain": [
       "\" *** \""
      ]
     },
     "execution_count": 80,
     "metadata": {},
     "output_type": "execute_result"
    }
   ],
   "source": [
    "Data.display(Data.Disc(3), 5, 1)"
   ]
  },
  {
   "cell_type": "code",
   "execution_count": 19,
   "id": "8fc955ca-f8eb-4f9a-8175-c86ba73c9457",
   "metadata": {},
   "outputs": [
    {
     "data": {
      "text/plain": [
       "8-element Vector{Main.Data.Disc}:\n",
       " ***\n",
       " *****\n",
       " *******\n",
       " *********\n",
       " ***********\n",
       " *************\n",
       " ***************\n",
       " *****************"
      ]
     },
     "execution_count": 19,
     "metadata": {},
     "output_type": "execute_result"
    }
   ],
   "source": [
    "[Data.Disc(each) for each in range(3, step=2, length=UInt8(8))]"
   ]
  },
  {
   "cell_type": "code",
   "execution_count": 28,
   "id": "47cdbfe1-31fd-4ca5-80c6-cfab22b375ee",
   "metadata": {},
   "outputs": [
    {
     "data": {
      "text/plain": [
       "\"*******\""
      ]
     },
     "execution_count": 28,
     "metadata": {},
     "output_type": "execute_result"
    }
   ],
   "source": [
    "string(Data.Disc(7))"
   ]
  },
  {
   "cell_type": "code",
   "execution_count": 30,
   "id": "f588a951-2e8f-406e-b7e6-57be769de1f1",
   "metadata": {},
   "outputs": [
    {
     "data": {
      "text/plain": [
       "\"..***..\""
      ]
     },
     "execution_count": 30,
     "metadata": {},
     "output_type": "execute_result"
    }
   ],
   "source": [
    "rpad(lpad(\"***\", 5, '.'), 7, '.')"
   ]
  },
  {
   "cell_type": "code",
   "execution_count": 31,
   "id": "beee2eeb-7026-4db0-a9c1-9e21b1f44e54",
   "metadata": {},
   "outputs": [
    {
     "data": {
      "text/plain": [
       "3"
      ]
     },
     "execution_count": 31,
     "metadata": {},
     "output_type": "execute_result"
    }
   ],
   "source": [
    "length(\"***\")"
   ]
  },
  {
   "cell_type": "code",
   "execution_count": 53,
   "id": "fc2c1f1b-6d8f-449e-816b-d67f50b1f5e8",
   "metadata": {},
   "outputs": [
    {
     "data": {
      "text/plain": [
       "\"...***...\""
      ]
     },
     "execution_count": 53,
     "metadata": {},
     "output_type": "execute_result"
    }
   ],
   "source": [
    "Data.display(Data.Disc(3), 9)"
   ]
  },
  {
   "cell_type": "code",
   "execution_count": 50,
   "id": "32c6abd0-7812-4695-97b5-e8d8cbb498da",
   "metadata": {},
   "outputs": [
    {
     "data": {
      "text/plain": [
       "7.0"
      ]
     },
     "execution_count": 50,
     "metadata": {},
     "output_type": "execute_result"
    }
   ],
   "source": [
    "(11 - 3) / 2 + 3"
   ]
  },
  {
   "cell_type": "code",
   "execution_count": 9,
   "id": "df147c94-d618-4bc5-9809-ef75366fc3f4",
   "metadata": {},
   "outputs": [
    {
     "data": {
      "text/plain": [
       "2-element Vector{Int64}:\n",
       " 0\n",
       " 1"
      ]
     },
     "execution_count": 9,
     "metadata": {},
     "output_type": "execute_result"
    }
   ],
   "source": [
    "a = [0,1]"
   ]
  },
  {
   "cell_type": "code",
   "execution_count": 15,
   "id": "b76aa121-e781-46d7-8235-f583796ec1fa",
   "metadata": {},
   "outputs": [
    {
     "data": {
      "text/plain": [
       "4-element Vector{Int64}:\n",
       " 0\n",
       " 1\n",
       " 3\n",
       " 3"
      ]
     },
     "execution_count": 15,
     "metadata": {},
     "output_type": "execute_result"
    }
   ],
   "source": [
    "push!(a,3)"
   ]
  },
  {
   "cell_type": "code",
   "execution_count": 16,
   "id": "67b967f3-9cd6-4330-bfac-f461c7934834",
   "metadata": {},
   "outputs": [
    {
     "data": {
      "text/plain": [
       "4-element Vector{Int64}:\n",
       " 0\n",
       " 1\n",
       " 3\n",
       " 3"
      ]
     },
     "execution_count": 16,
     "metadata": {},
     "output_type": "execute_result"
    }
   ],
   "source": [
    "a"
   ]
  },
  {
   "cell_type": "code",
   "execution_count": 18,
   "id": "937a82c1-b942-4207-a2b3-0754d22773a6",
   "metadata": {},
   "outputs": [
    {
     "data": {
      "text/plain": [
       "4-element Vector{Int64}:\n",
       " 0\n",
       " 1\n",
       " 3\n",
       " 3"
      ]
     },
     "execution_count": 18,
     "metadata": {},
     "output_type": "execute_result"
    }
   ],
   "source": [
    "b=copy(a)"
   ]
  },
  {
   "cell_type": "code",
   "execution_count": 19,
   "id": "c3b90e14-9a90-4111-a9e8-a7b1661cbf26",
   "metadata": {},
   "outputs": [
    {
     "data": {
      "text/plain": [
       "3"
      ]
     },
     "execution_count": 19,
     "metadata": {},
     "output_type": "execute_result"
    }
   ],
   "source": [
    "pop!(b)"
   ]
  },
  {
   "cell_type": "code",
   "execution_count": 20,
   "id": "7d344a88-16b1-458f-a4e9-13d9ab5f6bdf",
   "metadata": {},
   "outputs": [
    {
     "data": {
      "text/plain": [
       "3-element Vector{Int64}:\n",
       " 0\n",
       " 1\n",
       " 3"
      ]
     },
     "execution_count": 20,
     "metadata": {},
     "output_type": "execute_result"
    }
   ],
   "source": [
    "b"
   ]
  },
  {
   "cell_type": "code",
   "execution_count": 22,
   "id": "243534be-0fca-4f09-8d57-58387c6c0de4",
   "metadata": {},
   "outputs": [
    {
     "ename": "LoadError",
     "evalue": "MethodError: no method matching copy(::Tower)\n\u001b[0mClosest candidates are:\n\u001b[0m  copy(\u001b[91m::MbedTLS.MD\u001b[39m) at /home/btbuxton/.julia/packages/MbedTLS/4YY6E/src/md.jl:92\n\u001b[0m  copy(\u001b[91m::LinearAlgebra.Adjoint{var\"#s814\", LinearAlgebra.Rotation{T}} where var\"#s814\"\u001b[39m) where T at /buildworker/worker/package_linux64/build/usr/share/julia/stdlib/v1.6/LinearAlgebra/src/givens.jl:63\n\u001b[0m  copy(\u001b[91m::Base.IdSet\u001b[39m) at idset.jl:15\n\u001b[0m  ...",
     "output_type": "error",
     "traceback": [
      "MethodError: no method matching copy(::Tower)\n\u001b[0mClosest candidates are:\n\u001b[0m  copy(\u001b[91m::MbedTLS.MD\u001b[39m) at /home/btbuxton/.julia/packages/MbedTLS/4YY6E/src/md.jl:92\n\u001b[0m  copy(\u001b[91m::LinearAlgebra.Adjoint{var\"#s814\", LinearAlgebra.Rotation{T}} where var\"#s814\"\u001b[39m) where T at /buildworker/worker/package_linux64/build/usr/share/julia/stdlib/v1.6/LinearAlgebra/src/givens.jl:63\n\u001b[0m  copy(\u001b[91m::Base.IdSet\u001b[39m) at idset.jl:15\n\u001b[0m  ...",
      "",
      "Stacktrace:",
      " [1] top-level scope",
      "   @ In[22]:1",
      " [2] eval",
      "   @ ./boot.jl:360 [inlined]",
      " [3] include_string(mapexpr::typeof(REPL.softscope), mod::Module, code::String, filename::String)",
      "   @ Base ./loading.jl:1116"
     ]
    }
   ],
   "source": [
    "copy(t)"
   ]
  },
  {
   "cell_type": "markdown",
   "id": "322da888-533c-4db1-88dd-da575d252876",
   "metadata": {},
   "source": []
  },
  {
   "cell_type": "code",
   "execution_count": 24,
   "id": "4de32414-fcd7-4928-ac84-177f87428bff",
   "metadata": {},
   "outputs": [
    {
     "data": {
      "text/plain": [
       "Tower([Rod(), Rod(), Rod()])"
      ]
     },
     "execution_count": 24,
     "metadata": {},
     "output_type": "execute_result"
    }
   ],
   "source": [
    "j = deepcopy(t)"
   ]
  },
  {
   "cell_type": "code",
   "execution_count": 26,
   "id": "0776e042-7c34-42d6-9bdc-d9852fc93a92",
   "metadata": {},
   "outputs": [
    {
     "data": {
      "text/plain": [
       "false"
      ]
     },
     "execution_count": 26,
     "metadata": {},
     "output_type": "execute_result"
    }
   ],
   "source": [
    "j == t"
   ]
  },
  {
   "cell_type": "code",
   "execution_count": 6,
   "id": "2810fb93-20cf-4278-afd9-ac82501ee3b4",
   "metadata": {},
   "outputs": [
    {
     "data": {
      "text/plain": [
       "0x0000000000000008"
      ]
     },
     "execution_count": 6,
     "metadata": {},
     "output_type": "execute_result"
    }
   ],
   "source": [
    "UInt(8)"
   ]
  },
  {
   "cell_type": "code",
   "execution_count": 20,
   "id": "69a21019-2aed-485c-a6af-22773e7bcd44",
   "metadata": {},
   "outputs": [
    {
     "data": {
      "text/plain": [
       "3-element Vector{Disc}:\n",
       " Disc(0x03)\n",
       " Disc(0x02)\n",
       " Disc(0x01)"
      ]
     },
     "execution_count": 20,
     "metadata": {},
     "output_type": "execute_result"
    }
   ],
   "source": [
    "a = reverse([Disc(each) for each in range(1, step=1,length=3)])"
   ]
  },
  {
   "cell_type": "code",
   "execution_count": 18,
   "id": "bd54cce8-544f-4fd7-9c38-4d360567aa8c",
   "metadata": {},
   "outputs": [
    {
     "data": {
      "text/plain": [
       "3-element Vector{Disc}:\n",
       " Disc(3)\n",
       " Disc(2)\n",
       " Disc(1)"
      ]
     },
     "execution_count": 18,
     "metadata": {},
     "output_type": "execute_result"
    }
   ],
   "source": [
    "reverse(a)"
   ]
  },
  {
   "cell_type": "code",
   "execution_count": 21,
   "id": "7b58695f-5560-4dde-a56c-2f4e94258d9d",
   "metadata": {},
   "outputs": [
    {
     "data": {
      "text/plain": [
       "Rod(Disc[Disc(0x03), Disc(0x02), Disc(0x01)])"
      ]
     },
     "execution_count": 21,
     "metadata": {},
     "output_type": "execute_result"
    }
   ],
   "source": [
    "Rod(a)"
   ]
  },
  {
   "cell_type": "code",
   "execution_count": 17,
   "id": "d95f628d-a7be-47e0-8c1d-b242e618f0d5",
   "metadata": {},
   "outputs": [
    {
     "data": {
      "text/plain": [
       "\"***\""
      ]
     },
     "execution_count": 17,
     "metadata": {},
     "output_type": "execute_result"
    }
   ],
   "source": [
    "repeat(\"*\", 3)"
   ]
  },
  {
   "cell_type": "code",
   "execution_count": 65,
   "id": "ba71b396-f44c-426a-826e-624d84e9c892",
   "metadata": {},
   "outputs": [
    {
     "data": {
      "text/plain": [
       "3-element Vector{Int64}:\n",
       " 1\n",
       " 2\n",
       " 3"
      ]
     },
     "execution_count": 65,
     "metadata": {},
     "output_type": "execute_result"
    }
   ],
   "source": [
    "a=[1,2,3]"
   ]
  },
  {
   "cell_type": "code",
   "execution_count": 68,
   "id": "5d49bc47-8365-4a5e-971d-ef91c6089bf3",
   "metadata": {},
   "outputs": [
    {
     "data": {
      "text/plain": [
       "3"
      ]
     },
     "execution_count": 68,
     "metadata": {},
     "output_type": "execute_result"
    }
   ],
   "source": [
    "get(a, 3, '?')"
   ]
  },
  {
   "cell_type": "code",
   "execution_count": 85,
   "id": "353e8050-5629-4505-ad3b-f15c3daefd19",
   "metadata": {},
   "outputs": [
    {
     "name": "stdout",
     "output_type": "stream",
     "text": [
      "1\n",
      "2\n",
      "3\n",
      "4\n"
     ]
    }
   ],
   "source": [
    "for i in range(1, length=4)\n",
    "    println(i)\n",
    "end"
   ]
  },
  {
   "cell_type": "code",
   "execution_count": 147,
   "id": "bee8ae3a-da89-4c1e-833b-1e2a75c9655b",
   "metadata": {},
   "outputs": [
    {
     "data": {
      "text/plain": [
       "0x06f809fdd644aaa2"
      ]
     },
     "execution_count": 147,
     "metadata": {},
     "output_type": "execute_result"
    }
   ],
   "source": [
    "hash(Data.Disc(7))"
   ]
  },
  {
   "cell_type": "code",
   "execution_count": 150,
   "id": "e261f45a-4a6f-4df3-8d1c-1ac3af139356",
   "metadata": {},
   "outputs": [
    {
     "data": {
      "text/plain": [
       "0x06f809fdd644aaa2"
      ]
     },
     "execution_count": 150,
     "metadata": {},
     "output_type": "execute_result"
    }
   ],
   "source": [
    "hash(deepcopy(Data.Disc(7)))"
   ]
  },
  {
   "cell_type": "code",
   "execution_count": 161,
   "id": "c3625ad6-c691-45b4-9322-ec68dd0a7603",
   "metadata": {},
   "outputs": [
    {
     "data": {
      "text/plain": [
       "    ***                          \n",
       "   *****                         \n",
       "  *******                        \n",
       " *********                       \n"
      ]
     },
     "execution_count": 161,
     "metadata": {},
     "output_type": "execute_result"
    }
   ],
   "source": [
    "t = Data.Tower(4)"
   ]
  },
  {
   "cell_type": "code",
   "execution_count": 170,
   "id": "7eb60e26-0619-42a1-8e22-0288da942413",
   "metadata": {},
   "outputs": [
    {
     "data": {
      "text/plain": [
       "***"
      ]
     },
     "execution_count": 170,
     "metadata": {},
     "output_type": "execute_result"
    }
   ],
   "source": [
    "last(t.rods[1].discs)"
   ]
  },
  {
   "cell_type": "code",
   "execution_count": 371,
   "id": "66fa9e77-abaf-4235-b6a8-871b7f346b87",
   "metadata": {},
   "outputs": [
    {
     "data": {
      "text/plain": [
       "(1, 2)"
      ]
     },
     "execution_count": 371,
     "metadata": {},
     "output_type": "execute_result"
    }
   ],
   "source": [
    "tup = (1,2)"
   ]
  },
  {
   "cell_type": "code",
   "execution_count": 374,
   "id": "dca8f046-5c94-4398-a3e5-f76fe069eab7",
   "metadata": {},
   "outputs": [
    {
     "data": {
      "text/plain": [
       "2-element Vector{Int64}:\n",
       " 1\n",
       " 2"
      ]
     },
     "execution_count": 374,
     "metadata": {},
     "output_type": "execute_result"
    }
   ],
   "source": [
    "v = [each for each in tup]"
   ]
  },
  {
   "cell_type": "code",
   "execution_count": 375,
   "id": "8a7034af-c01e-4076-8e2c-f464a45e14e9",
   "metadata": {},
   "outputs": [
    {
     "ename": "LoadError",
     "evalue": "UndefVarError: push not defined",
     "output_type": "error",
     "traceback": [
      "UndefVarError: push not defined",
      "",
      "Stacktrace:",
      " [1] top-level scope",
      "   @ In[375]:1",
      " [2] eval",
      "   @ ./boot.jl:360 [inlined]",
      " [3] include_string(mapexpr::typeof(REPL.softscope), mod::Module, code::String, filename::String)",
      "   @ Base ./loading.jl:1116"
     ]
    }
   ],
   "source": [
    "push(tup, 4)"
   ]
  },
  {
   "cell_type": "code",
   "execution_count": 462,
   "id": "06307415-39f6-4b59-ae6e-a0e7b55be671",
   "metadata": {},
   "outputs": [
    {
     "name": "stdout",
     "output_type": "stream",
     "text": [
      "3994254288365766802\n",
      "3994254288365766802\n",
      "11082675144903454004\n",
      "11082675144903454004\n"
     ]
    }
   ],
   "source": [
    "t = Data.Tower(4)\n",
    "println(hash(t))\n",
    "println(hash(t.rods))\n",
    "r = t.rods[1]\n",
    "println(hash(r))\n",
    "println(hash(r.discs))"
   ]
  },
  {
   "cell_type": "code",
   "execution_count": 463,
   "id": "67c68c43-b6b1-4c65-98cb-8315e958724c",
   "metadata": {},
   "outputs": [
    {
     "name": "stdout",
     "output_type": "stream",
     "text": [
      "3994254288365766802\n",
      "3994254288365766802\n",
      "11082675144903454004\n",
      "11082675144903454004\n"
     ]
    }
   ],
   "source": [
    "t2 = Data.Tower(4)\n",
    "println(hash(t2))\n",
    "println(hash(t2.rods))\n",
    "r2 = t2.rods[1]\n",
    "println(hash(t2.rods[1]))\n",
    "println(hash(t2.rods[1].discs))"
   ]
  },
  {
   "cell_type": "code",
   "execution_count": 464,
   "id": "f4de8ced-c2aa-4dcb-8d26-d4b519939b4c",
   "metadata": {},
   "outputs": [
    {
     "data": {
      "text/plain": [
       "true"
      ]
     },
     "execution_count": 464,
     "metadata": {},
     "output_type": "execute_result"
    }
   ],
   "source": [
    "t == t2"
   ]
  },
  {
   "cell_type": "code",
   "execution_count": 465,
   "id": "24611208-f57b-4eff-8bb1-b81b8c8037ea",
   "metadata": {},
   "outputs": [
    {
     "data": {
      "text/plain": [
       "true"
      ]
     },
     "execution_count": 465,
     "metadata": {},
     "output_type": "execute_result"
    }
   ],
   "source": [
    "hash(t) == hash(t2)"
   ]
  },
  {
   "cell_type": "code",
   "execution_count": 466,
   "id": "7059ce6e-c2e2-404e-86ff-d502093a813d",
   "metadata": {},
   "outputs": [
    {
     "data": {
      "text/plain": [
       "true"
      ]
     },
     "execution_count": 466,
     "metadata": {},
     "output_type": "execute_result"
    }
   ],
   "source": [
    "r == r2"
   ]
  },
  {
   "cell_type": "code",
   "execution_count": 467,
   "id": "3eb51f8f-0952-4e1c-9187-a593110cfe8c",
   "metadata": {},
   "outputs": [
    {
     "data": {
      "text/plain": [
       "true"
      ]
     },
     "execution_count": 467,
     "metadata": {},
     "output_type": "execute_result"
    }
   ],
   "source": [
    "hash(r) == hash(r2)"
   ]
  },
  {
   "cell_type": "code",
   "execution_count": 434,
   "id": "7dbc1dca-36fe-4f8a-8785-db8140cdb954",
   "metadata": {},
   "outputs": [
    {
     "data": {
      "text/plain": [
       "true"
      ]
     },
     "execution_count": 434,
     "metadata": {},
     "output_type": "execute_result"
    }
   ],
   "source": [
    "r.discs == r2.discs"
   ]
  },
  {
   "cell_type": "code",
   "execution_count": 418,
   "id": "b2f6ddfd-3c2f-4985-9c58-f9b8af523414",
   "metadata": {},
   "outputs": [
    {
     "name": "stdout",
     "output_type": "stream",
     "text": [
      "search: \u001b[0m\u001b[1m=\u001b[22m\u001b[0m\u001b[1m=\u001b[22m \u001b[0m\u001b[1m=\u001b[22m\u001b[0m\u001b[1m=\u001b[22m= !\u001b[0m\u001b[1m=\u001b[22m\u001b[0m\u001b[1m=\u001b[22m\n",
      "\n"
     ]
    },
    {
     "data": {
      "text/latex": [
       "\\begin{verbatim}\n",
       "==(x, y)\n",
       "\\end{verbatim}\n",
       "Generic equality operator. Falls back to \\href{@ref}{\\texttt{===}}. Should be implemented for all types with a notion of equality, based on the abstract value that an instance represents. For example, all numeric types are compared by numeric value, ignoring type. Strings are compared as sequences of characters, ignoring encoding. For collections, \\texttt{==} is generally called recursively on all contents, though other properties (like the shape for arrays) may also be taken into account.\n",
       "\n",
       "This operator follows IEEE semantics for floating-point numbers: \\texttt{0.0 == -0.0} and \\texttt{NaN != NaN}.\n",
       "\n",
       "The result is of type \\texttt{Bool}, except when one of the operands is \\href{@ref}{\\texttt{missing}}, in which case \\texttt{missing} is returned (\\href{https://en.wikipedia.org/wiki/Three-valued_logic}{three-valued logic}). For collections, \\texttt{missing} is returned if at least one of the operands contains a \\texttt{missing} value and all non-missing values are equal. Use \\href{@ref}{\\texttt{isequal}} or \\href{@ref}{\\texttt{===}} to always get a \\texttt{Bool} result.\n",
       "\n",
       "\\section{Implementation}\n",
       "New numeric types should implement this function for two arguments of the new type, and handle comparison to other types via promotion rules where possible.\n",
       "\n",
       "\\href{@ref}{\\texttt{isequal}} falls back to \\texttt{==}, so new methods of \\texttt{==} will be used by the \\href{@ref}{\\texttt{Dict}} type to compare keys. If your type will be used as a dictionary key, it should therefore also implement \\href{@ref}{\\texttt{hash}}.\n",
       "\n",
       "\\rule{\\textwidth}{1pt}\n",
       "\\begin{verbatim}\n",
       "==(x)\n",
       "\\end{verbatim}\n",
       "Create a function that compares its argument to \\texttt{x} using \\href{@ref}{\\texttt{==}}, i.e. a function equivalent to \\texttt{y -> y == x}.\n",
       "\n",
       "The returned function is of type \\texttt{Base.Fix2\\{typeof(==)\\}}, which can be used to implement specialized methods.\n",
       "\n",
       "\\rule{\\textwidth}{1pt}\n",
       "\\begin{verbatim}\n",
       "==(a::AbstractString, b::AbstractString) -> Bool\n",
       "\\end{verbatim}\n",
       "Test whether two strings are equal character by character (technically, Unicode code point by code point).\n",
       "\n",
       "\\section{Examples}\n",
       "\\begin{verbatim}\n",
       "julia> \"abc\" == \"abc\"\n",
       "true\n",
       "\n",
       "julia> \"abc\" == \"αβγ\"\n",
       "false\n",
       "\\end{verbatim}\n"
      ],
      "text/markdown": [
       "```\n",
       "==(x, y)\n",
       "```\n",
       "\n",
       "Generic equality operator. Falls back to [`===`](@ref). Should be implemented for all types with a notion of equality, based on the abstract value that an instance represents. For example, all numeric types are compared by numeric value, ignoring type. Strings are compared as sequences of characters, ignoring encoding. For collections, `==` is generally called recursively on all contents, though other properties (like the shape for arrays) may also be taken into account.\n",
       "\n",
       "This operator follows IEEE semantics for floating-point numbers: `0.0 == -0.0` and `NaN != NaN`.\n",
       "\n",
       "The result is of type `Bool`, except when one of the operands is [`missing`](@ref), in which case `missing` is returned ([three-valued logic](https://en.wikipedia.org/wiki/Three-valued_logic)). For collections, `missing` is returned if at least one of the operands contains a `missing` value and all non-missing values are equal. Use [`isequal`](@ref) or [`===`](@ref) to always get a `Bool` result.\n",
       "\n",
       "# Implementation\n",
       "\n",
       "New numeric types should implement this function for two arguments of the new type, and handle comparison to other types via promotion rules where possible.\n",
       "\n",
       "[`isequal`](@ref) falls back to `==`, so new methods of `==` will be used by the [`Dict`](@ref) type to compare keys. If your type will be used as a dictionary key, it should therefore also implement [`hash`](@ref).\n",
       "\n",
       "---\n",
       "\n",
       "```\n",
       "==(x)\n",
       "```\n",
       "\n",
       "Create a function that compares its argument to `x` using [`==`](@ref), i.e. a function equivalent to `y -> y == x`.\n",
       "\n",
       "The returned function is of type `Base.Fix2{typeof(==)}`, which can be used to implement specialized methods.\n",
       "\n",
       "---\n",
       "\n",
       "```\n",
       "==(a::AbstractString, b::AbstractString) -> Bool\n",
       "```\n",
       "\n",
       "Test whether two strings are equal character by character (technically, Unicode code point by code point).\n",
       "\n",
       "# Examples\n",
       "\n",
       "```jldoctest\n",
       "julia> \"abc\" == \"abc\"\n",
       "true\n",
       "\n",
       "julia> \"abc\" == \"αβγ\"\n",
       "false\n",
       "```\n"
      ],
      "text/plain": [
       "\u001b[36m  ==(x, y)\u001b[39m\n",
       "\n",
       "  Generic equality operator. Falls back to \u001b[36m===\u001b[39m. Should be implemented for all\n",
       "  types with a notion of equality, based on the abstract value that an\n",
       "  instance represents. For example, all numeric types are compared by numeric\n",
       "  value, ignoring type. Strings are compared as sequences of characters,\n",
       "  ignoring encoding. For collections, \u001b[36m==\u001b[39m is generally called recursively on\n",
       "  all contents, though other properties (like the shape for arrays) may also\n",
       "  be taken into account.\n",
       "\n",
       "  This operator follows IEEE semantics for floating-point numbers: \u001b[36m0.0 == -0.0\u001b[39m\n",
       "  and \u001b[36mNaN != NaN\u001b[39m.\n",
       "\n",
       "  The result is of type \u001b[36mBool\u001b[39m, except when one of the operands is \u001b[36mmissing\u001b[39m, in\n",
       "  which case \u001b[36mmissing\u001b[39m is returned (three-valued logic\n",
       "  (https://en.wikipedia.org/wiki/Three-valued_logic)). For collections,\n",
       "  \u001b[36mmissing\u001b[39m is returned if at least one of the operands contains a \u001b[36mmissing\u001b[39m value\n",
       "  and all non-missing values are equal. Use \u001b[36misequal\u001b[39m or \u001b[36m===\u001b[39m to always get a\n",
       "  \u001b[36mBool\u001b[39m result.\n",
       "\n",
       "\u001b[1m  Implementation\u001b[22m\n",
       "\u001b[1m  ≡≡≡≡≡≡≡≡≡≡≡≡≡≡≡≡\u001b[22m\n",
       "\n",
       "  New numeric types should implement this function for two arguments of the\n",
       "  new type, and handle comparison to other types via promotion rules where\n",
       "  possible.\n",
       "\n",
       "  \u001b[36misequal\u001b[39m falls back to \u001b[36m==\u001b[39m, so new methods of \u001b[36m==\u001b[39m will be used by the \u001b[36mDict\u001b[39m type\n",
       "  to compare keys. If your type will be used as a dictionary key, it should\n",
       "  therefore also implement \u001b[36mhash\u001b[39m.\n",
       "\n",
       "  ────────────────────────────────────────────────────────────────────────────\n",
       "\n",
       "\u001b[36m  ==(x)\u001b[39m\n",
       "\n",
       "  Create a function that compares its argument to \u001b[36mx\u001b[39m using \u001b[36m==\u001b[39m, i.e. a function\n",
       "  equivalent to \u001b[36my -> y == x\u001b[39m.\n",
       "\n",
       "  The returned function is of type \u001b[36mBase.Fix2{typeof(==)}\u001b[39m, which can be used to\n",
       "  implement specialized methods.\n",
       "\n",
       "  ────────────────────────────────────────────────────────────────────────────\n",
       "\n",
       "\u001b[36m  ==(a::AbstractString, b::AbstractString) -> Bool\u001b[39m\n",
       "\n",
       "  Test whether two strings are equal character by character (technically,\n",
       "  Unicode code point by code point).\n",
       "\n",
       "\u001b[1m  Examples\u001b[22m\n",
       "\u001b[1m  ≡≡≡≡≡≡≡≡≡≡\u001b[22m\n",
       "\n",
       "\u001b[36m  julia> \"abc\" == \"abc\"\u001b[39m\n",
       "\u001b[36m  true\u001b[39m\n",
       "\u001b[36m  \u001b[39m\n",
       "\u001b[36m  julia> \"abc\" == \"αβγ\"\u001b[39m\n",
       "\u001b[36m  false\u001b[39m"
      ]
     },
     "execution_count": 418,
     "metadata": {},
     "output_type": "execute_result"
    }
   ],
   "source": [
    "?=="
   ]
  },
  {
   "cell_type": "code",
   "execution_count": 382,
   "id": "087ec4ce-1e6d-49c6-9c10-ed7acd9d3be8",
   "metadata": {},
   "outputs": [
    {
     "data": {
      "text/plain": [
       "0xe5a77e407cb93a25"
      ]
     },
     "execution_count": 382,
     "metadata": {},
     "output_type": "execute_result"
    }
   ],
   "source": [
    "hash([1,2,3,4])"
   ]
  },
  {
   "cell_type": "code",
   "execution_count": 400,
   "id": "f93cc71e-ab5c-4449-b823-bcb42af39de6",
   "metadata": {},
   "outputs": [
    {
     "data": {
      "text/plain": [
       "true"
      ]
     },
     "execution_count": 400,
     "metadata": {},
     "output_type": "execute_result"
    }
   ],
   "source": [
    "r.discs == r2.discs"
   ]
  },
  {
   "cell_type": "code",
   "execution_count": 398,
   "id": "a0de1342-0291-415a-b455-4da1417613c3",
   "metadata": {},
   "outputs": [
    {
     "data": {
      "text/plain": [
       "true"
      ]
     },
     "execution_count": 398,
     "metadata": {},
     "output_type": "execute_result"
    }
   ],
   "source": [
    "[1,2,3] == [1,2,3]"
   ]
  },
  {
   "cell_type": "code",
   "execution_count": 399,
   "id": "631942fa-f908-4fbb-94ac-2649504daad7",
   "metadata": {},
   "outputs": [
    {
     "data": {
      "text/plain": [
       "true"
      ]
     },
     "execution_count": 399,
     "metadata": {},
     "output_type": "execute_result"
    }
   ],
   "source": [
    "[Data.Disc(i) for i in range(1,length=3)] == [Data.Disc(i) for i in range(1,length=3)] "
   ]
  },
  {
   "cell_type": "code",
   "execution_count": 458,
   "id": "4ab5d3a8-d5c5-43a9-a70d-847955c8d1d6",
   "metadata": {},
   "outputs": [
    {
     "name": "stdout",
     "output_type": "stream",
     "text": [
      "search: \u001b[0m\u001b[1mh\u001b[22m\u001b[0m\u001b[1ma\u001b[22m\u001b[0m\u001b[1ms\u001b[22m\u001b[0m\u001b[1mh\u001b[22m \u001b[0m\u001b[1mh\u001b[22m\u001b[0m\u001b[1ma\u001b[22m\u001b[0m\u001b[1ms\u001b[22mmet\u001b[0m\u001b[1mh\u001b[22mod \u001b[0m\u001b[1mh\u001b[22m\u001b[0m\u001b[1ma\u001b[22m\u001b[0m\u001b[1ms\u001b[22mkey \u001b[0m\u001b[1mh\u001b[22m\u001b[0m\u001b[1ma\u001b[22m\u001b[0m\u001b[1ms\u001b[22mfield \u001b[0m\u001b[1mh\u001b[22m\u001b[0m\u001b[1ma\u001b[22m\u001b[0m\u001b[1ms\u001b[22mproperty skipc\u001b[0m\u001b[1mh\u001b[22m\u001b[0m\u001b[1ma\u001b[22mr\u001b[0m\u001b[1ms\u001b[22m T\u001b[0m\u001b[1mh\u001b[22mre\u001b[0m\u001b[1ma\u001b[22md\u001b[0m\u001b[1ms\u001b[22m\n",
      "\n"
     ]
    },
    {
     "data": {
      "text/latex": [
       "\\begin{verbatim}\n",
       "hash(x[, h::UInt])\n",
       "\\end{verbatim}\n",
       "Compute an integer hash code such that \\texttt{isequal(x,y)} implies \\texttt{hash(x)==hash(y)}. The optional second argument \\texttt{h} is a hash code to be mixed with the result.\n",
       "\n",
       "New types should implement the 2-argument form, typically by calling the 2-argument \\texttt{hash} method recursively in order to mix hashes of the contents with each other (and with \\texttt{h}). Typically, any type that implements \\texttt{hash} should also implement its own \\texttt{==} (hence \\texttt{isequal}) to guarantee the property mentioned above. Types supporting subtraction (operator \\texttt{-}) should also implement \\href{@ref}{\\texttt{widen}}, which is required to hash values inside heterogeneous arrays.\n",
       "\n"
      ],
      "text/markdown": [
       "```\n",
       "hash(x[, h::UInt])\n",
       "```\n",
       "\n",
       "Compute an integer hash code such that `isequal(x,y)` implies `hash(x)==hash(y)`. The optional second argument `h` is a hash code to be mixed with the result.\n",
       "\n",
       "New types should implement the 2-argument form, typically by calling the 2-argument `hash` method recursively in order to mix hashes of the contents with each other (and with `h`). Typically, any type that implements `hash` should also implement its own `==` (hence `isequal`) to guarantee the property mentioned above. Types supporting subtraction (operator `-`) should also implement [`widen`](@ref), which is required to hash values inside heterogeneous arrays.\n"
      ],
      "text/plain": [
       "\u001b[36m  hash(x[, h::UInt])\u001b[39m\n",
       "\n",
       "  Compute an integer hash code such that \u001b[36misequal(x,y)\u001b[39m implies\n",
       "  \u001b[36mhash(x)==hash(y)\u001b[39m. The optional second argument \u001b[36mh\u001b[39m is a hash code to be mixed\n",
       "  with the result.\n",
       "\n",
       "  New types should implement the 2-argument form, typically by calling the\n",
       "  2-argument \u001b[36mhash\u001b[39m method recursively in order to mix hashes of the contents\n",
       "  with each other (and with \u001b[36mh\u001b[39m). Typically, any type that implements \u001b[36mhash\u001b[39m\n",
       "  should also implement its own \u001b[36m==\u001b[39m (hence \u001b[36misequal\u001b[39m) to guarantee the property\n",
       "  mentioned above. Types supporting subtraction (operator \u001b[36m-\u001b[39m) should also\n",
       "  implement \u001b[36mwiden\u001b[39m, which is required to hash values inside heterogeneous\n",
       "  arrays."
      ]
     },
     "execution_count": 458,
     "metadata": {},
     "output_type": "execute_result"
    }
   ],
   "source": [
    "?hash"
   ]
  },
  {
   "cell_type": "code",
   "execution_count": 457,
   "id": "95e0cdbd-b153-4b3c-9ba8-41262668b467",
   "metadata": {},
   "outputs": [
    {
     "ename": "LoadError",
     "evalue": "MethodError: no method matching hash(::Int64, ::Int64, ::Int64)\n\u001b[0mClosest candidates are:\n\u001b[0m  hash(::Int64, \u001b[91m::UInt64\u001b[39m) at hashing.jl:71\n\u001b[0m  hash(::Real, \u001b[91m::UInt64\u001b[39m) at float.jl:489\n\u001b[0m  hash(::Any) at hashing.jl:18\n\u001b[0m  ...",
     "output_type": "error",
     "traceback": [
      "MethodError: no method matching hash(::Int64, ::Int64, ::Int64)\n\u001b[0mClosest candidates are:\n\u001b[0m  hash(::Int64, \u001b[91m::UInt64\u001b[39m) at hashing.jl:71\n\u001b[0m  hash(::Real, \u001b[91m::UInt64\u001b[39m) at float.jl:489\n\u001b[0m  hash(::Any) at hashing.jl:18\n\u001b[0m  ...",
      "",
      "Stacktrace:",
      " [1] top-level scope",
      "   @ In[457]:1",
      " [2] eval",
      "   @ ./boot.jl:360 [inlined]",
      " [3] include_string(mapexpr::typeof(REPL.softscope), mod::Module, code::String, filename::String)",
      "   @ Base ./loading.jl:1116"
     ]
    }
   ],
   "source": []
  },
  {
   "cell_type": "code",
   "execution_count": 556,
   "id": "7f722fed-20e8-4813-8c89-86eacd36ccc2",
   "metadata": {},
   "outputs": [],
   "source": [
    "using TowerOfHanoi"
   ]
  },
  {
   "cell_type": "code",
   "execution_count": 557,
   "id": "d46a0b26-a900-4d18-9fcb-21bb7924b743",
   "metadata": {},
   "outputs": [
    {
     "data": {
      "text/plain": [
       "    ***                          \n",
       "   *****                         \n",
       "  *******                        \n",
       " *********                       \n"
      ]
     },
     "execution_count": 557,
     "metadata": {},
     "output_type": "execute_result"
    }
   ],
   "source": [
    "TowerOfHanoi.Tower(4)"
   ]
  },
  {
   "cell_type": "code",
   "execution_count": 555,
   "id": "00bb2113-90d2-4131-80ee-091b236feffb",
   "metadata": {},
   "outputs": [],
   "source": [
    "using Revise"
   ]
  },
  {
   "cell_type": "code",
   "execution_count": 558,
   "id": "cd54693e-458f-462e-913c-bb71823cbed1",
   "metadata": {},
   "outputs": [
    {
     "ename": "LoadError",
     "evalue": "UndefVarError: Tower not defined",
     "output_type": "error",
     "traceback": [
      "UndefVarError: Tower not defined",
      "",
      "Stacktrace:",
      " [1] top-level scope",
      "   @ In[558]:1",
      " [2] eval",
      "   @ ./boot.jl:360 [inlined]",
      " [3] include_string(mapexpr::typeof(REPL.softscope), mod::Module, code::String, filename::String)",
      "   @ Base ./loading.jl:1116"
     ]
    }
   ],
   "source": [
    "Tower(4)"
   ]
  },
  {
   "cell_type": "code",
   "execution_count": 30,
   "id": "fcdb43e2-8128-4c45-8ce9-f40b50cdd710",
   "metadata": {},
   "outputs": [
    {
     "data": {
      "text/plain": [
       "false"
      ]
     },
     "execution_count": 30,
     "metadata": {},
     "output_type": "execute_result"
    }
   ],
   "source": [
    "s = Set([1,2,3])\n",
    "push!(s,4)\n",
    "in(5, s)"
   ]
  },
  {
   "cell_type": "code",
   "execution_count": 31,
   "id": "4d825df4-48ba-4a6d-8c77-c166ea618156",
   "metadata": {},
   "outputs": [
    {
     "data": {
      "text/plain": [
       "true"
      ]
     },
     "execution_count": 31,
     "metadata": {},
     "output_type": "execute_result"
    }
   ],
   "source": [
    "in(4, s)"
   ]
  },
  {
   "cell_type": "code",
   "execution_count": 32,
   "id": "ca4c6256-22b3-48e4-a9d6-6d6ac2a6aaf0",
   "metadata": {},
   "outputs": [
    {
     "data": {
      "text/plain": [
       "Set{Tower} with 1 element:\n",
       "      ***                          …"
      ]
     },
     "execution_count": 32,
     "metadata": {},
     "output_type": "execute_result"
    }
   ],
   "source": [
    "s = Set([Tower(4)])"
   ]
  },
  {
   "cell_type": "code",
   "execution_count": 33,
   "id": "2374c2b5-5822-4c44-9bd0-76dfcc23439e",
   "metadata": {},
   "outputs": [
    {
     "data": {
      "text/plain": [
       "1"
      ]
     },
     "execution_count": 33,
     "metadata": {},
     "output_type": "execute_result"
    }
   ],
   "source": [
    "length(s)"
   ]
  },
  {
   "cell_type": "code",
   "execution_count": 34,
   "id": "f78f3e50-e262-4271-bf95-d4db89863ae3",
   "metadata": {},
   "outputs": [
    {
     "data": {
      "text/plain": [
       "Set{Tower} with 1 element:\n",
       "      ***                          …"
      ]
     },
     "execution_count": 34,
     "metadata": {},
     "output_type": "execute_result"
    }
   ],
   "source": [
    "push!(s, Tower(4))"
   ]
  },
  {
   "cell_type": "code",
   "execution_count": 35,
   "id": "2ba8d07f-ecab-47fc-9d8f-4ff4f9546b3a",
   "metadata": {},
   "outputs": [
    {
     "data": {
      "text/plain": [
       "1"
      ]
     },
     "execution_count": 35,
     "metadata": {},
     "output_type": "execute_result"
    }
   ],
   "source": [
    "length(s)"
   ]
  },
  {
   "cell_type": "code",
   "execution_count": 36,
   "id": "e9e8ffca-3523-45aa-95f7-6fe364ebf6f6",
   "metadata": {},
   "outputs": [
    {
     "data": {
      "text/plain": [
       "true"
      ]
     },
     "execution_count": 36,
     "metadata": {},
     "output_type": "execute_result"
    }
   ],
   "source": [
    "in(Tower(4), s)"
   ]
  },
  {
   "cell_type": "code",
   "execution_count": 40,
   "id": "5dde4562-66fc-4fb1-a7f8-b64dd89a2349",
   "metadata": {},
   "outputs": [
    {
     "name": "stdout",
     "output_type": "stream",
     "text": [
      "123\n"
     ]
    }
   ],
   "source": [
    "function example(func::Function, question)\n",
    "    if question\n",
    "        func(123)\n",
    "    end\n",
    "end\n",
    "\n",
    "example(false) do a\n",
    "    println(a)\n",
    "end\n",
    "\n",
    "example(true) do a\n",
    "    println(a)\n",
    "end"
   ]
  },
  {
   "cell_type": "code",
   "execution_count": 41,
   "id": "8b10b28a-7238-4813-8814-ce788c1c6689",
   "metadata": {},
   "outputs": [],
   "source": [
    "using DataStructures"
   ]
  },
  {
   "cell_type": "code",
   "execution_count": 43,
   "id": "02d1fc0e-f0de-4406-8604-1d5747b1efaa",
   "metadata": {},
   "outputs": [
    {
     "data": {
      "text/plain": [
       "3-element Vector{Tuple{Int64, String}}:\n",
       " (1, \"foo\")\n",
       " (2, \"bar\")\n",
       " (3, \"baz\")"
      ]
     },
     "execution_count": 43,
     "metadata": {},
     "output_type": "execute_result"
    }
   ],
   "source": [
    "data = collect(enumerate([\"foo\", \"bar\", \"baz\"]))"
   ]
  },
  {
   "cell_type": "code",
   "execution_count": 56,
   "id": "da23a7b1-951e-4201-8f3a-05b184bda7df",
   "metadata": {},
   "outputs": [
    {
     "data": {
      "text/plain": [
       "(1, \"foo\")"
      ]
     },
     "execution_count": 56,
     "metadata": {},
     "output_type": "execute_result"
    }
   ],
   "source": [
    "h1 = MutableBinaryHeap(Base.By(first),data) # Standard lexicographic ordering for tuples\n",
    "first(h1)             # => (1, \"foo\")"
   ]
  },
  {
   "cell_type": "code",
   "execution_count": 53,
   "id": "4b2ede91-68c2-44db-8008-4697b9ca18da",
   "metadata": {},
   "outputs": [
    {
     "data": {
      "text/plain": [
       "(2, \"bar\")"
      ]
     },
     "execution_count": 53,
     "metadata": {},
     "output_type": "execute_result"
    }
   ],
   "source": [
    "h2 = MutableBinaryHeap(Base.By(last), data) # Order by 2nd element only\n",
    "first(h2) "
   ]
  },
  {
   "cell_type": "code",
   "execution_count": 50,
   "id": "49a85149-f1f8-41a9-980d-bd39a3cfaff9",
   "metadata": {},
   "outputs": [
    {
     "data": {
      "text/plain": [
       "MutableBinaryHeap(4, 2, 3, 1)"
      ]
     },
     "execution_count": 50,
     "metadata": {},
     "output_type": "execute_result"
    }
   ],
   "source": [
    "h = MutableBinaryMinHeap{Int}()\n",
    "h = MutableBinaryMaxHeap{Int}()      # create an empty mutable min/max heap\n",
    "\n",
    "h = MutableBinaryMinHeap([1,4,3,2])\n",
    "h = MutableBinaryMaxHeap([1,4,3,2]) "
   ]
  },
  {
   "cell_type": "code",
   "execution_count": 59,
   "id": "dbe288bc-dfa5-4f19-a24e-70d31e8758f5",
   "metadata": {},
   "outputs": [
    {
     "data": {
      "text/plain": [
       "MutableBinaryHeap(4, 2, 3, 1)"
      ]
     },
     "execution_count": 59,
     "metadata": {},
     "output_type": "execute_result"
    }
   ],
   "source": [
    "h = MutableBinaryMaxHeap([1,4,3,2]) "
   ]
  },
  {
   "cell_type": "code",
   "execution_count": 62,
   "id": "58e1f175-ebe8-4c38-8332-52cb0807b1e8",
   "metadata": {},
   "outputs": [
    {
     "data": {
      "text/plain": [
       "4"
      ]
     },
     "execution_count": 62,
     "metadata": {},
     "output_type": "execute_result"
    }
   ],
   "source": [
    "pop!(h)"
   ]
  },
  {
   "cell_type": "code",
   "execution_count": 63,
   "id": "374311e9-5b41-408f-8a62-b85615720f02",
   "metadata": {},
   "outputs": [
    {
     "data": {
      "text/plain": [
       "3"
      ]
     },
     "execution_count": 63,
     "metadata": {},
     "output_type": "execute_result"
    }
   ],
   "source": [
    "pop!(h)"
   ]
  },
  {
   "cell_type": "code",
   "execution_count": 64,
   "id": "3a53384c-5a45-46cc-9b9b-8f68d571b4e2",
   "metadata": {},
   "outputs": [
    {
     "data": {
      "text/plain": [
       "2"
      ]
     },
     "execution_count": 64,
     "metadata": {},
     "output_type": "execute_result"
    }
   ],
   "source": [
    "pop!(h)"
   ]
  },
  {
   "cell_type": "code",
   "execution_count": 74,
   "id": "57bc1643-ec3c-4b28-a629-c489bbda2313",
   "metadata": {},
   "outputs": [
    {
     "data": {
      "text/plain": [
       "MutableBinaryHeap(6, 10, 12, 8, 2, 4)"
      ]
     },
     "execution_count": 74,
     "metadata": {},
     "output_type": "execute_result"
    }
   ],
   "source": [
    "data = [ 2, 4, 6, 8, 10, 12 ]\n",
    "function heuristic(input)\n",
    "    input % 3\n",
    "end\n",
    "h = MutableBinaryHeap(Base.By(heuristic), data)"
   ]
  },
  {
   "cell_type": "code",
   "execution_count": 75,
   "id": "ebf5ef0c-caa6-42ea-b8e8-5f9b91d922c5",
   "metadata": {},
   "outputs": [
    {
     "data": {
      "text/plain": [
       "6"
      ]
     },
     "execution_count": 75,
     "metadata": {},
     "output_type": "execute_result"
    }
   ],
   "source": [
    "pop!(h)"
   ]
  },
  {
   "cell_type": "code",
   "execution_count": 76,
   "id": "acf1a0b9-d621-4ed3-aff4-b3c1e2d9445a",
   "metadata": {},
   "outputs": [
    {
     "data": {
      "text/plain": [
       "12"
      ]
     },
     "execution_count": 76,
     "metadata": {},
     "output_type": "execute_result"
    }
   ],
   "source": [
    "pop!(h)"
   ]
  },
  {
   "cell_type": "code",
   "execution_count": 77,
   "id": "be514906-09c3-43ae-be00-a212fe3fb14c",
   "metadata": {},
   "outputs": [
    {
     "data": {
      "text/plain": [
       "10"
      ]
     },
     "execution_count": 77,
     "metadata": {},
     "output_type": "execute_result"
    }
   ],
   "source": [
    "pop!(h)"
   ]
  },
  {
   "cell_type": "code",
   "execution_count": 78,
   "id": "b063c3b7-0afb-4a39-89fc-a02da482eccd",
   "metadata": {},
   "outputs": [
    {
     "data": {
      "text/plain": [
       "4"
      ]
     },
     "execution_count": 78,
     "metadata": {},
     "output_type": "execute_result"
    }
   ],
   "source": [
    "pop!(h)"
   ]
  },
  {
   "cell_type": "code",
   "execution_count": 86,
   "id": "72320d7d-be8b-4d20-bcc8-88f226b3933d",
   "metadata": {},
   "outputs": [
    {
     "data": {
      "text/plain": [
       "#15 (generic function with 1 method)"
      ]
     },
     "execution_count": 86,
     "metadata": {},
     "output_type": "execute_result"
    }
   ],
   "source": [
    "initial = Tower(4,1)\n",
    "test_func = (state::Tower) -> heuristic(initial, state)"
   ]
  },
  {
   "cell_type": "code",
   "execution_count": 85,
   "id": "eb58ff1e-b6af-4df6-a594-55d1038cd490",
   "metadata": {},
   "outputs": [
    {
     "ename": "LoadError",
     "evalue": "MethodError: no method matching heuristic(::Tower, ::Tower)\n\u001b[0mClosest candidates are:\n\u001b[0m  heuristic(::Any) at In[74]:2",
     "output_type": "error",
     "traceback": [
      "MethodError: no method matching heuristic(::Tower, ::Tower)\n\u001b[0mClosest candidates are:\n\u001b[0m  heuristic(::Any) at In[74]:2",
      "",
      "Stacktrace:",
      " [1] (::var\"#13#14\")(state::Tower)",
      "   @ Main ./In[84]:2",
      " [2] top-level scope",
      "   @ In[85]:1",
      " [3] eval",
      "   @ ./boot.jl:360 [inlined]",
      " [4] include_string(mapexpr::typeof(REPL.softscope), mod::Module, code::String, filename::String)",
      "   @ Base ./loading.jl:1116"
     ]
    }
   ],
   "source": [
    "test_func(Tower(4,2))"
   ]
  },
  {
   "cell_type": "code",
   "execution_count": null,
   "id": "27b953f1-19e3-416d-9db9-2ac75ad21fcb",
   "metadata": {},
   "outputs": [],
   "source": []
  }
 ],
 "metadata": {
  "kernelspec": {
   "display_name": "Julia 1.6.3",
   "language": "julia",
   "name": "julia-1.6"
  },
  "language_info": {
   "file_extension": ".jl",
   "mimetype": "application/julia",
   "name": "julia",
   "version": "1.6.3"
  }
 },
 "nbformat": 4,
 "nbformat_minor": 5
}
